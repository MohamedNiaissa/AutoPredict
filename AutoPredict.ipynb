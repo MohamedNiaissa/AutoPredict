{
  "cells": [
    {
      "cell_type": "markdown",
      "id": "5224d645",
      "metadata": {
        "id": "5224d645"
      },
      "source": [
        "\n",
        "### Projet : Prédiction des Prix des Voitures d'Occasion\n",
        "\n",
        "\n",
        "Ce projet vise à prédire le prix de vente de voitures d'occasion à partir de leurs caractéristiques telles que l'année, le kilométrage, le type de carburant, etc. Nous suivrons les étapes suivantes :\n",
        "\n",
        "1. Exploration des données (EDA)\n",
        "2. Préparation des données\n",
        "3. Modélisation avec différents algorithmes\n",
        "4. Enregistrement du modèle avec MLflow\n",
        "5. Déploiement de l'API avec FastAPI\n",
        "6. Explicabilité des modèles avec SHAP\n",
        "\n",
        "\n",
        "# Étape 1 : Chargement des Données\n",
        "\n",
        "\n",
        "Nous commençons par charger les données dans un DataFrame df et explorons les premières lignes pour comprendre sa structure.\n",
        "\n"
      ]
    },
    {
      "cell_type": "code",
      "execution_count": null,
      "id": "2dee167d",
      "metadata": {
        "id": "2dee167d"
      },
      "outputs": [],
      "source": [
        "import pandas as pd\n",
        "\n",
        "# Chargement du dataset\n",
        "df = pd.read_csv('cartest.csv')\n",
        "df.head()"
      ]
    },
    {
      "cell_type": "markdown",
      "id": "436bbf98",
      "metadata": {
        "id": "436bbf98"
      },
      "source": [
        "\n",
        "# Étape 2 : Exploration des Données (EDA)\n",
        "\n",
        "\n",
        "\n",
        "Statistiques descriptives\n",
        "Les statistiques descriptives permettent de résumer les distributions des colonnes numériques principales. Cela nous aide à repérer des valeurs aberrantes ou des anomalies.\n",
        "\n"
      ]
    },
    {
      "cell_type": "code",
      "execution_count": null,
      "id": "7119ce7d",
      "metadata": {
        "id": "7119ce7d"
      },
      "outputs": [],
      "source": [
        "# Statistiques descriptives\n",
        "df[['name', 'year', 'selling_price', 'km_driven', 'fuel']].describe()"
      ]
    },
    {
      "cell_type": "markdown",
      "id": "c0916384",
      "metadata": {
        "id": "c0916384"
      },
      "source": [
        "\n",
        "\n",
        "Visualisation des données\n",
        "Un boxplot est utilisé pour détecter les anomalies dans les colonnes\n"
      ]
    },
    {
      "cell_type": "code",
      "execution_count": null,
      "id": "5ce87bc7",
      "metadata": {
        "id": "5ce87bc7"
      },
      "outputs": [],
      "source": [
        "# Boxplot pour détecter les anomalies\n",
        "import matplotlib.pyplot as plt\n",
        "import seaborn as sns\n",
        "\n",
        "df.plot.box()\n",
        "plt.show()\n",
        "\n",
        "# Visualisation avancée avec Plotly\n",
        "import plotly.express as px\n",
        "fig = px.box(df, x=\"year\", y=\"km_driven\", color=\"selling_price\")\n",
        "fig.show()"
      ]
    },
    {
      "cell_type": "markdown",
      "id": "824004ee",
      "metadata": {
        "id": "824004ee"
      },
      "source": [
        "\n",
        "# Étape 3 : Transformation des Données\n",
        "\n",
        "\n",
        "Nous préparons les données pour les modèles en encodant les colonnes catégoriques et en manipulant les colonnes nécessaires.\n",
        "\n"
      ]
    },
    {
      "cell_type": "code",
      "execution_count": null,
      "id": "06243564",
      "metadata": {
        "id": "06243564"
      },
      "outputs": [],
      "source": [
        "# Copie des données pour transformation\n",
        "df1 = df.copy()"
      ]
    },
    {
      "cell_type": "markdown",
      "source": [
        "Encodage des colonnes catégoriques\n",
        "\n",
        "Chaque valeur textuelle est convertie en valeur numérique pour que les algorithmes de machine learning puissent traiter ces colonnes. Cela est essentiel car la plupart des modèles ne peuvent pas travailler directement avec des données non numériques.\n"
      ],
      "metadata": {
        "id": "5It9Uy9EPIHn"
      },
      "id": "5It9Uy9EPIHn"
    },
    {
      "cell_type": "code",
      "source": [
        "df1['fuel'].replace({'Diesel': 0, 'Petrol': 1, 'LPG': 2, 'CNG': 3, 'Electric': 4}, inplace=True)\n",
        "df1.replace({'Automatic': 0, 'Manual': 1}, inplace=True)\n",
        "df1.replace({'First Owner': 0, 'Second Owner': 1, 'Third Owner': 2, 'Fourth & Above Owner': 3, 'Test Drive Car': 4}, inplace=True)\n",
        "df1.replace({'Dealer': 0, 'Individual': 1}, inplace=True)"
      ],
      "metadata": {
        "id": "32xLISB7PPCp"
      },
      "id": "32xLISB7PPCp",
      "execution_count": null,
      "outputs": []
    },
    {
      "cell_type": "markdown",
      "source": [
        " Création d'une nouvelle colonne \"brand\""
      ],
      "metadata": {
        "id": "pAhKe_HSPTOD"
      },
      "id": "pAhKe_HSPTOD"
    },
    {
      "cell_type": "code",
      "source": [
        "df1['brand'] = df1['name'].str.split().str[0]\n",
        "df1.drop('name', axis=1, inplace=True)"
      ],
      "metadata": {
        "id": "_517vqY5PWYG"
      },
      "id": "_517vqY5PWYG",
      "execution_count": null,
      "outputs": []
    },
    {
      "cell_type": "markdown",
      "source": [
        "Encodage des marques\n",
        "\n",
        "Cette étape permet d'assigner un entier unique à chaque marque de voiture, facilitant leur traitement dans les modèles."
      ],
      "metadata": {
        "id": "PFoIVLqKPaYc"
      },
      "id": "PFoIVLqKPaYc"
    },
    {
      "cell_type": "code",
      "source": [
        "brands = df1['brand'].unique()\n",
        "brand_mapping = {brand: i for i, brand in enumerate(brands)}\n",
        "df1['brand'] = df1['brand'].map(brand_mapping)\n",
        "\n",
        "print(\"Données transformées :\")\n",
        "print(df1.head())"
      ],
      "metadata": {
        "id": "RA2wAn9QPf-i"
      },
      "id": "RA2wAn9QPf-i",
      "execution_count": null,
      "outputs": []
    },
    {
      "cell_type": "markdown",
      "id": "a2f904fa",
      "metadata": {
        "id": "a2f904fa"
      },
      "source": [
        "\n",
        "\n",
        "Les colonnes catégoriques ont été encodées et une nouvelle colonne \"brand\" a été ajoutée pour représenter la marque de chaque voiture. Ces transformations permettent aux modèles d'analyser efficacement les relations entre les caractéristiques et le prix de vente.\n",
        "\n",
        "\n",
        "# Étape 4 : Création et Entraînement de Modèles\n",
        "\n",
        "\n",
        "Nous testons différents modèles et pipelines pour trouver celui qui donne les meilleures performances.\n",
        "\n"
      ]
    },
    {
      "cell_type": "code",
      "execution_count": null,
      "id": "2ba769fa",
      "metadata": {
        "id": "2ba769fa"
      },
      "outputs": [],
      "source": [
        "from sklearn.model_selection import train_test_split\n",
        "from sklearn.pipeline import make_pipeline\n",
        "from sklearn.compose import make_column_transformer\n",
        "from sklearn.preprocessing import OneHotEncoder, StandardScaler\n",
        "from sklearn.impute import SimpleImputer\n",
        "from sklearn.linear_model import LinearRegression, LassoCV\n",
        "from sklearn.ensemble import RandomForestRegressor, GradientBoostingRegressor\n",
        "\n",
        "# Séparation des données\n",
        "X = df1.drop('selling_price', axis=1)\n",
        "y = df1['selling_price']\n",
        "X_train, X_test, y_train, y_test = train_test_split(X, y, test_size=0.2, random_state=42)"
      ]
    },
    {
      "cell_type": "markdown",
      "source": [
        "# Pipeline pour Random Forest\n",
        "\n",
        "make_column_transformer permet de traiter différentes colonnes de manière distincte. Ici, les colonnes numériques sont imputées avec la moyenne et les colonnes catégoriques sont encodées avec OneHotEncoder.\n",
        "\n",
        " Cela permet de simplifier le prétraitement des données, surtout lorsque différentes transformations sont nécessaires selon le type de colonne."
      ],
      "metadata": {
        "id": "UdCblieOMWS4"
      },
      "id": "UdCblieOMWS4"
    },
    {
      "cell_type": "code",
      "source": [
        "tree_processor = make_column_transformer(\n",
        "    (SimpleImputer(strategy=\"mean\"), ['year', 'km_driven']),\n",
        "    (OneHotEncoder(handle_unknown=\"ignore\"), ['brand'])\n",
        ")\n",
        "\n",
        "rfr_pipeline = make_pipeline(tree_processor, RandomForestRegressor(n_estimators=100, random_state=42))\n",
        "rfr_pipeline.fit(X_train, y_train)\n",
        "\n",
        "print(\"Score Random Forest :\")\n",
        "print(rfr_pipeline.score(X_train, y_train) * 100)\n",
        "print(rfr_pipeline.score(X_test, y_test) * 100)"
      ],
      "metadata": {
        "id": "XI5_8X19Mn_c"
      },
      "id": "XI5_8X19Mn_c",
      "execution_count": null,
      "outputs": []
    },
    {
      "cell_type": "markdown",
      "source": [
        "# Pipeline pour Lasso Regression\n",
        "\n",
        "StandardScaler est utilisé pour normaliser les données, ce qui est souvent nécessaire pour des modèles linéaires comme LassoCV."
      ],
      "metadata": {
        "id": "oTxlT2CmMQVx"
      },
      "id": "oTxlT2CmMQVx"
    },
    {
      "cell_type": "code",
      "source": [
        "linear_preprocessor = make_column_transformer(\n",
        "    (make_pipeline(StandardScaler(), SimpleImputer(strategy=\"mean\")), ['year', 'km_driven']),\n",
        "    (OneHotEncoder(handle_unknown=\"ignore\"), ['brand'])\n",
        ")\n",
        "\n",
        "lasso_pipeline = make_pipeline(linear_preprocessor, LassoCV())\n",
        "lasso_pipeline.fit(X_train, y_train)\n",
        "\n",
        "print(\"Score Lasso Regression :\")\n",
        "print(lasso_pipeline.score(X_train, y_train) * 100)\n",
        "print(lasso_pipeline.score(X_test, y_test) * 100)"
      ],
      "metadata": {
        "id": "-Aiw_3k6M128"
      },
      "id": "-Aiw_3k6M128",
      "execution_count": null,
      "outputs": []
    },
    {
      "cell_type": "markdown",
      "id": "f42b8d04",
      "metadata": {
        "id": "f42b8d04"
      },
      "source": [
        "\n",
        "\n",
        "Nous avons testé plusieurs modèles, notamment RandomForestRegressor et LassoCV. Random Forest est un modèle basé sur des arbres de décision, robuste face à des données non linéaires et souvent performant sans nécessiter de normalisation préalable. En revanche, LassoCV, qui effectue une régularisation L1, est utile pour réduire l'impact des variables moins pertinentes.\n",
        "\n",
        "\n",
        "# Étape 5 : Enregistrement du Modèle avec MLflow\n",
        "\n",
        "\n",
        "MLflow est utilisé pour gérer les modèles, versionner et suivre leurs\n"
      ]
    },
    {
      "cell_type": "code",
      "execution_count": null,
      "id": "134ec0ce",
      "metadata": {
        "id": "134ec0ce"
      },
      "outputs": [],
      "source": [
        "import mlflow\n",
        "import mlflow.sklearn\n",
        "\n",
        "mlflow.set_tracking_uri(\"http://127.0.0.1:8080\")\n",
        "mlflow.set_experiment(\"Car Price Prediction\")\n",
        "\n",
        "with mlflow.start_run():\n",
        "    mlflow.sklearn.log_model(rfr_pipeline, artifact_path=\"random_forest_pipeline\")\n",
        "    mlflow.log_metric(\"train_score\", rfr_pipeline.score(X_train, y_train))\n",
        "    mlflow.log_metric(\"test_score\", rfr_pipeline.score(X_test, y_test))\n",
        "\n",
        "print(\"Modèle Random Forest enregistré avec succès dans MLflow.\")"
      ]
    },
    {
      "cell_type": "markdown",
      "id": "0492762a",
      "metadata": {
        "id": "0492762a"
      },
      "source": [
        "\n",
        "# Étape 6 : Déploiement avec FastAPI\n",
        "\n",
        "\n",
        "FastAPI est utilisé pour déployer les modèles sous forme d'API. Cela permet à d'autres applications de faire des prédictions en envoyant des requêtes HTTP.\n",
        "\n"
      ]
    },
    {
      "cell_type": "code",
      "execution_count": null,
      "id": "bf68c631",
      "metadata": {
        "id": "bf68c631"
      },
      "outputs": [],
      "source": [
        "from fastapi import FastAPI\n",
        "\n",
        "app = FastAPI()\n",
        "\n",
        "@app.get(\"/status\")\n",
        "def status():\n",
        "    return {\"status\": \"Le modèle est prêt pour les prédictions.\"}\n",
        "\n"
      ]
    },
    {
      "cell_type": "markdown",
      "source": [
        "La fonction predict prend en entrée les caractéristiques d'un véhicule (année, kilométrage, type de carburant, etc.),\n",
        "    les transforme au format attendu par le modèle, et retourne une prédiction du prix de vente estimé."
      ],
      "metadata": {
        "id": "aecn77p4P1hQ"
      },
      "id": "aecn77p4P1hQ"
    },
    {
      "cell_type": "code",
      "source": [
        "@app.post(\"/predict\")\n",
        "def predict(year: int, km_driven: int, fuel: int, transmission: int, owner: int, brand: int):\n",
        "    input_data = pd.DataFrame([[year, km_driven, fuel, transmission, owner, brand]],\n",
        "                              columns=['year', 'km_driven', 'fuel', 'transmission', 'owner', 'brand'])\n",
        "    prediction = rfr_pipeline.predict(input_data)\n",
        "    return {\"predicted_price\": prediction[0]}"
      ],
      "metadata": {
        "id": "oMcQAWeIP8sv"
      },
      "id": "oMcQAWeIP8sv",
      "execution_count": null,
      "outputs": []
    },
    {
      "cell_type": "markdown",
      "id": "cf44cdae",
      "metadata": {
        "id": "cf44cdae"
      },
      "source": [
        "\n",
        "# Étape 7 : Ajout de SHAP pour l'Explicabilité\n",
        "\n",
        "\n",
        "SHAP est une bibliothèque qui permet de comprendre les décisions des modèles. Les graphiques comme `summary_plot` montrent quelles caractéristiques influencent le plus les prédictions.\n",
        "\n"
      ]
    },
    {
      "cell_type": "markdown",
      "source": [
        "Dans un graphique SHAP, chaque point représente une instance (une observation). L'axe horizontal indique l'impact de la caractéristique sur la prédiction, positif ou négatif. Les couleurs (rouge et bleu) montrent si la valeur de la caractéristique est élevée ou basse. Par exemple, des points rouges à droite indiquent une forte valeur d'une caractéristique qui augmente la prédiction.\n",
        "\n",
        "Cela permet de comprendre quelles caractéristiques sont les plus importantes dans les décisions du modèle."
      ],
      "metadata": {
        "id": "Njg0y_KHQPXE"
      },
      "id": "Njg0y_KHQPXE"
    },
    {
      "cell_type": "code",
      "execution_count": null,
      "id": "538cf78a",
      "metadata": {
        "id": "538cf78a"
      },
      "outputs": [],
      "source": [
        "import shap"
      ]
    },
    {
      "cell_type": "markdown",
      "source": [
        "SHAP permet d'expliquer les prédictions du modèle en attribuant à chaque caractéristique une valeur qui représente son impact positif ou négatif sur la prédiction.\n"
      ],
      "metadata": {
        "id": "y83QjZ64NDqK"
      },
      "id": "y83QjZ64NDqK"
    },
    {
      "cell_type": "code",
      "source": [
        "explainer = shap.Explainer(rfr_pipeline.predict, X_train)\n",
        "shap_values = explainer(X_test)"
      ],
      "metadata": {
        "id": "Ohxnve83NK49"
      },
      "id": "Ohxnve83NK49",
      "execution_count": null,
      "outputs": []
    },
    {
      "cell_type": "markdown",
      "source": [
        "Le graphique summary_plot présente les caractéristiques les plus influentes sur l'ensemble des prédictions, ainsi que leurs impacts respectifs (positifs ou négatifs).\n"
      ],
      "metadata": {
        "id": "pSFjnEB-NNaw"
      },
      "id": "pSFjnEB-NNaw"
    },
    {
      "cell_type": "code",
      "source": [
        "shap.summary_plot(shap_values, X_test)"
      ],
      "metadata": {
        "id": "cy07ndmtNTXH"
      },
      "id": "cy07ndmtNTXH",
      "execution_count": null,
      "outputs": []
    },
    {
      "cell_type": "markdown",
      "id": "3aae345b",
      "metadata": {
        "id": "3aae345b"
      },
      "source": [
        "\n",
        "# Conclusion\n",
        "\n",
        "\n",
        "Ce projet illustre tout le cycle de vie d'un modèle machine learning : exploration des données, création, entraînement, enregistrement, déploiement, et explicabilité.\n",
        "\n",
        "Les outils utilisés comme MLflow et SHAP rendent ce processus robuste et transparent.\n",
        "\n",
        "**Prochaines étapes :** essayer d'autres modèles, explorer des approches comme Gradient Boosting, et améliorer l'expérience utilisateur.\n",
        "\n"
      ]
    }
  ],
  "metadata": {
    "colab": {
      "provenance": []
    }
  },
  "nbformat": 4,
  "nbformat_minor": 5
}