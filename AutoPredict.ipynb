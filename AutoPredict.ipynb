{
 "cells": [
  {
   "cell_type": "markdown",
   "id": "21cfb641",
   "metadata": {},
   "source": [
    "### Introduction\n",
    "\n",
    "Ce notebook explique le projet complet : de l'exploration des données à la création et au déploiement d'un modèle prédictif avec FastAPI et l'utilisation de SHAP pour explicabilité.\n",
    "L'objectif est de comprendre chaque étape et de garder une trace pour référence future."
   ]
  },
  {
   "cell_type": "markdown",
   "id": "d94765a8",
   "metadata": {},
   "source": [
    "### Étape 1 : Chargement et Exploration des Données\n",
    "\n",
    "Nous commençons par charger les données et analyser leur contenu pour comprendre les caractéristiques disponibles."
   ]
  },
  {
   "cell_type": "code",
   "execution_count": null,
   "id": "7eddcb0f",
   "metadata": {},
   "outputs": [],
   "source": [
    "import pandas as pd\n",
    "import matplotlib.pyplot as plt\n",
    "import seaborn as sns\n",
    "\n",
    "# Charger les données\n",
    "print(\"Chargement des données...\")\n",
    "df = pd.read_csv('cartest.csv')\n",
    "print(df.head())\n",
    "\n",
    "# Description des données\n",
    "print(\"Description des données :\")\n",
    "print(df.describe())\n",
    "\n",
    "# Visualisation des données\n",
    "sns.pairplot(df)\n",
    "plt.show()"
   ]
  },
  {
   "cell_type": "markdown",
   "id": "a23569a7",
   "metadata": {},
   "source": [
    "Les données contiennent des informations sur des voitures d'occasion : \n",
    "- `year` : année de fabrication\n",
    "- `km_driven` : kilométrage\n",
    "- `fuel` : type de carburant\n",
    "- `transmission` : type de transmission (manuelle ou automatique)\n",
    "- `owner` : type de propriétaire précédent\n",
    "- `seller_type` : type de vendeur (individuel, concessionnaire, etc.)\n",
    "- `selling_price` : prix de vente"
   ]
  },
  {
   "cell_type": "markdown",
   "id": "5a4231fa",
   "metadata": {},
   "source": [
    "### Étape 2 : Préparation des Données\n",
    "\n",
    "Nous préparons les données en transformant les colonnes catégoriques et en manipulant les colonnes nécessaires."
   ]
  },
  {
   "cell_type": "code",
   "execution_count": null,
   "id": "d35f1f9b",
   "metadata": {},
   "outputs": [],
   "source": [
    "from sklearn.preprocessing import LabelEncoder\n",
    "\n",
    "# Encodage des colonnes catégoriques\n",
    "encoder = LabelEncoder()\n",
    "df['fuel'] = encoder.fit_transform(df['fuel'])\n",
    "df['transmission'] = encoder.fit_transform(df['transmission'])\n",
    "df['owner'] = encoder.fit_transform(df['owner'])\n",
    "df['seller_type'] = encoder.fit_transform(df['seller_type'])\n",
    "\n",
    "# Vérification des données après encodage\n",
    "print(\"Données après transformation :\")\n",
    "print(df.head())"
   ]
  },
  {
   "cell_type": "markdown",
   "id": "89f78157",
   "metadata": {},
   "source": [
    "Les colonnes catégoriques ont été encodées pour que les modèles les comprennent. Par exemple :\n",
    "- `Diesel` devient 0, `Petrol` devient 1."
   ]
  },
  {
   "cell_type": "markdown",
   "id": "452a4b77",
   "metadata": {},
   "source": [
    "### Étape 3 : Création et Entraînement du Modèle\n",
    "\n",
    "Nous utilisons un modèle de régression simple pour prédire le prix de vente des voitures."
   ]
  },
  {
   "cell_type": "code",
   "execution_count": null,
   "id": "e324b0e3",
   "metadata": {},
   "outputs": [],
   "source": [
    "from sklearn.model_selection import train_test_split\n",
    "from sklearn.ensemble import RandomForestRegressor\n",
    "\n",
    "# Séparation des données\n",
    "X = df.drop('selling_price', axis=1)\n",
    "y = df['selling_price']\n",
    "X_train, X_test, y_train, y_test = train_test_split(X, y, test_size=0.2, random_state=42)\n",
    "\n",
    "# Création du modèle\n",
    "model = RandomForestRegressor(n_estimators=100, random_state=42)\n",
    "model.fit(X_train, y_train)\n",
    "\n",
    "# Évaluation du modèle\n",
    "train_score = model.score(X_train, y_train)\n",
    "test_score = model.score(X_test, y_test)\n",
    "print(f\"Performance sur l'ensemble d'entraînement : {train_score}\")\n",
    "print(f\"Performance sur l'ensemble de test : {test_score}\")"
   ]
  },
  {
   "cell_type": "markdown",
   "id": "d11912e0",
   "metadata": {},
   "source": [
    "Un modèle `RandomForestRegressor` a été entraîné pour prédire le prix de vente.\n",
    "Les performances montrent la capacité du modèle à s'adapter aux données."
   ]
  },
  {
   "cell_type": "markdown",
   "id": "ae61e605",
   "metadata": {},
   "source": [
    "### Étape 4 : Enregistrement du Modèle avec MLflow\n",
    "\n",
    "MLflow est utilisé pour gérer les modèles. Cela permet d'enregistrer, de versionner et de suivre les performances des modèles de manière centralisée."
   ]
  },
  {
   "cell_type": "code",
   "execution_count": null,
   "id": "496eae47",
   "metadata": {},
   "outputs": [],
   "source": [
    "import mlflow\n",
    "import mlflow.sklearn\n",
    "\n",
    "mlflow.set_tracking_uri(\"http://127.0.0.1:8080\")\n",
    "mlflow.set_experiment(\"Car Price Prediction\")\n",
    "\n",
    "with mlflow.start_run():\n",
    "    mlflow.sklearn.log_model(model, artifact_path=\"random_forest_model\")\n",
    "    mlflow.log_metric(\"train_score\", train_score)\n",
    "    mlflow.log_metric(\"test_score\", test_score)\n",
    "\n",
    "print(\"Modèle enregistré avec succès dans MLflow.\")"
   ]
  },
  {
   "cell_type": "markdown",
   "id": "f31895d5",
   "metadata": {},
   "source": [
    "### Étape 5 : Déploiement avec FastAPI\n",
    "\n",
    "FastAPI est utilisé pour déployer le modèle sous forme d'API. Cela permet à d'autres applications de faire des prédictions en envoyant des requêtes HTTP."
   ]
  },
  {
   "cell_type": "code",
   "execution_count": null,
   "id": "a942e8ba",
   "metadata": {},
   "outputs": [],
   "source": [
    "from fastapi import FastAPI\n",
    "\n",
    "app = FastAPI()\n",
    "\n",
    "@app.get(\"/status\")\n",
    "def status():\n",
    "    return {\"status\": \"Le modèle est prêt pour les prédictions.\"}\n",
    "\n",
    "@app.post(\"/predict\")\n",
    "def predict(year: int, km_driven: int, fuel: int, transmission: int, owner: int, seller_type: int):\n",
    "    input_data = pd.DataFrame([[year, km_driven, fuel, transmission, owner, seller_type]],\n",
    "                              columns=['year', 'km_driven', 'fuel', 'transmission', 'owner', 'seller_type'])\n",
    "    prediction = model.predict(input_data)\n",
    "    return {\"predicted_price\": prediction[0]}"
   ]
  },
  {
   "cell_type": "markdown",
   "id": "2753ba27",
   "metadata": {},
   "source": [
    "### Étape 6 : Ajout de SHAP pour l'Explicabilité\n",
    "\n",
    "SHAP est une bibliothèque qui permet de comprendre les décisions des modèles. Le graphique `summary_plot` montre quelles caractéristiques influencent le plus les prédictions."
   ]
  },
  {
   "cell_type": "code",
   "execution_count": null,
   "id": "ba06b258",
   "metadata": {},
   "outputs": [],
   "source": [
    "import shap\n",
    "\n",
    "explainer = shap.Explainer(model, X_train)\n",
    "shap_values = explainer(X_test)\n",
    "\n",
    "shap.summary_plot(shap_values, X_test)"
   ]
  },
  {
   "cell_type": "markdown",
   "id": "6171e900",
   "metadata": {},
   "source": [
    "### Conclusion\n",
    "\n",
    "Ce projet illustre tout le cycle de vie d'un modèle machine learning : exploration des données, création, entraînement, enregistrement, déploiement, et explicabilité.\n",
    "Les outils utilisés comme MLflow et SHAP rendent ce processus robuste et transparent.\n",
    "Prochaines étapes : essayer d'autres modèles et améliorer l'interface utilisateur avec une documentation API plus détaillée."
   ]
  }
 ],
 "metadata": {},
 "nbformat": 4,
 "nbformat_minor": 5
}
